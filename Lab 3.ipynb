{
  "nbformat": 4,
  "nbformat_minor": 5,
  "metadata": {
    "kernelspec": {
      "display_name": "Python 3",
      "language": "python",
      "name": "python3"
    },
    "language_info": {
      "codemirror_mode": {
        "name": "ipython",
        "version": 3
      },
      "file_extension": ".py",
      "mimetype": "text/x-python",
      "name": "python",
      "nbconvert_exporter": "python",
      "pygments_lexer": "ipython3",
      "version": "3.7.11"
    },
    "colab": {
      "name": "Lab 3.ipynb",
      "provenance": []
    }
  },
  "cells": [
    {
      "cell_type": "markdown",
      "metadata": {
        "deletable": false,
        "editable": false,
        "nbgrader": {
          "cell_type": "markdown",
          "checksum": "46257b35bdb3bba08d6a51564a1f5dde",
          "grade": false,
          "grade_id": "cell-87f50cc21b044ca6",
          "locked": true,
          "schema_version": 3,
          "solution": false,
          "task": false
        },
        "id": "2e5bbf23"
      },
      "source": [
        "# Laboratory #3\n",
        "\n",
        "* This is an introductory exercise for you to learn about Python basics 2.\n",
        "\n",
        "* Each question has a value of 1 point\n",
        "\n",
        "* For this laboratory each exercise has its answer, please copy the answer after the comment `# YOUR CODE HERE` in their respective question\n",
        "\n",
        "* Do not rename the notebook.\n"
      ],
      "id": "2e5bbf23"
    },
    {
      "cell_type": "markdown",
      "metadata": {
        "deletable": false,
        "editable": false,
        "nbgrader": {
          "cell_type": "markdown",
          "checksum": "083cc8bb328735fdc97bf2709af6aa9a",
          "grade": false,
          "grade_id": "cell-aa6013d65432dadd",
          "locked": true,
          "schema_version": 3,
          "solution": false,
          "task": false
        },
        "id": "8353b2c0"
      },
      "source": [
        "* Name: KIM TAE GEON\n",
        "* Student ID: 201801349\n",
        "\n",
        "Answer the questions or complete the tasks below, use the specific method described if applicable."
      ],
      "id": "8353b2c0"
    },
    {
      "cell_type": "markdown",
      "metadata": {
        "deletable": false,
        "editable": false,
        "nbgrader": {
          "cell_type": "markdown",
          "checksum": "b6f98af554ae803ac8e8d521f4b85781",
          "grade": false,
          "grade_id": "cell-9f2130bfe1b4e184",
          "locked": true,
          "schema_version": 3,
          "solution": false,
          "task": false
        },
        "id": "471528b8"
      },
      "source": [
        "**Question 1:** \n",
        "\n",
        "* Given this nested list, use indexing to grab the word \"Programing!\"\n",
        "* Store the result in a variable `q1`\n",
        "\n",
        "`lst = [12,13,[14,15],[16,[17,18,['Programing!']],19,20],21,22]`\n"
      ],
      "id": "471528b8"
    },
    {
      "cell_type": "code",
      "metadata": {
        "deletable": false,
        "nbgrader": {
          "cell_type": "code",
          "checksum": "7f247eebaae2b17c3e69f5c318ed70e5",
          "grade": false,
          "grade_id": "cell-566ed0f75c736f36",
          "locked": false,
          "schema_version": 3,
          "solution": true,
          "task": false
        },
        "id": "aae9418a",
        "colab": {
          "base_uri": "https://localhost:8080/"
        },
        "outputId": "a3c8fe93-bf1d-4a42-a978-e43f64767fc8"
      },
      "source": [
        "# YOUR CODE HERE\n",
        "lst = [12,13,[14,15],[16,[17,18,['Programing!']],19,20],21,22]\n",
        "q1 = print(lst[3][1][2])"
      ],
      "id": "aae9418a",
      "execution_count": null,
      "outputs": [
        {
          "output_type": "stream",
          "name": "stdout",
          "text": [
            "['Programing!']\n"
          ]
        }
      ]
    },
    {
      "cell_type": "code",
      "metadata": {
        "deletable": false,
        "editable": false,
        "nbgrader": {
          "cell_type": "code",
          "checksum": "cfa1b830cef2b680ef8c2ff08908fd90",
          "grade": true,
          "grade_id": "cell-8de3d20fff28f7ad",
          "locked": true,
          "points": 1,
          "schema_version": 3,
          "solution": false,
          "task": false
        },
        "id": "703cc4d5"
      },
      "source": [
        "['Programing!']"
      ],
      "id": "703cc4d5",
      "execution_count": null,
      "outputs": []
    },
    {
      "cell_type": "markdown",
      "metadata": {
        "deletable": false,
        "editable": false,
        "nbgrader": {
          "cell_type": "markdown",
          "checksum": "4b3365de61a301ee2b56ce394e93af53",
          "grade": false,
          "grade_id": "cell-68a5529f4e51326f",
          "locked": true,
          "schema_version": 3,
          "solution": false,
          "task": false
        },
        "id": "b0a91fb2"
      },
      "source": [
        "**Question 2:** \n",
        "\n",
        "* Given this nest dictionary grab the word \"I love Python!\". Be prepared, this will be annoying/tricky\n",
        "\n",
        "* Store the result in a variable `q2`\n",
        "\n",
        "`d = {'key1':[1,2,3,{'key1_1':['I','love','kpop',{'key1_2':[1,2,3,'I love Python!']}]}]}`"
      ],
      "id": "b0a91fb2"
    },
    {
      "cell_type": "code",
      "metadata": {
        "deletable": false,
        "nbgrader": {
          "cell_type": "code",
          "checksum": "e4cbb00e30676594b10b6e3f5078f3a8",
          "grade": false,
          "grade_id": "cell-26825bd6b4582077",
          "locked": false,
          "schema_version": 3,
          "solution": true,
          "task": false
        },
        "id": "d24afc59",
        "outputId": "99b1de75-f7c8-4a17-a1fa-dc3aa18f17c1",
        "colab": {
          "base_uri": "https://localhost:8080/"
        }
      },
      "source": [
        "# YOUR CODE HERE\n",
        "d = {'key1':[1,2,3,{'key1_1':['I','love','kpop',{'key1_2':[1,2,3,'I love Python!']}]}]}\n",
        "q2 = print(d['key1'][3]['key1_1'][3]['key1_2'][3])"
      ],
      "id": "d24afc59",
      "execution_count": 11,
      "outputs": [
        {
          "output_type": "stream",
          "name": "stdout",
          "text": [
            "I love Python!\n"
          ]
        }
      ]
    },
    {
      "cell_type": "code",
      "metadata": {
        "deletable": false,
        "editable": false,
        "nbgrader": {
          "cell_type": "code",
          "checksum": "ce61d2780b1368700d397229108beefd",
          "grade": true,
          "grade_id": "cell-9ca137af0dec1b3b",
          "locked": true,
          "points": 1,
          "schema_version": 3,
          "solution": false,
          "task": false
        },
        "id": "f8572ff0"
      },
      "source": [
        ""
      ],
      "id": "f8572ff0",
      "execution_count": null,
      "outputs": []
    },
    {
      "cell_type": "markdown",
      "metadata": {
        "deletable": false,
        "editable": false,
        "nbgrader": {
          "cell_type": "markdown",
          "checksum": "ae2ad0d7315c63384fb31b3ea505f0ce",
          "grade": false,
          "grade_id": "cell-c5003f5919074432",
          "locked": true,
          "schema_version": 3,
          "solution": false,
          "task": false
        },
        "id": "19c7ef44"
      },
      "source": [
        "**Question 3:** \n",
        "* What are the number of items in the list?: (use len function)\n",
        "* Store the result in a variable `q3`\n",
        "\n",
        "`list1 = [\"apple\", \"banana\", \"cherry\", \"mango\", \"blueberry\", \"pineapple\", \"cake\"]`"
      ],
      "id": "19c7ef44"
    },
    {
      "cell_type": "code",
      "metadata": {
        "deletable": false,
        "nbgrader": {
          "cell_type": "code",
          "checksum": "a9d5a26f1738999ecaff83bdb67c91dc",
          "grade": false,
          "grade_id": "cell-95dacacfc40fcdfa",
          "locked": false,
          "schema_version": 3,
          "solution": true,
          "task": false
        },
        "id": "a961b572",
        "colab": {
          "base_uri": "https://localhost:8080/"
        },
        "outputId": "2bcd409b-506b-48f2-c6c0-7dc3845ee285"
      },
      "source": [
        "# YOUR CODE HERE\n",
        "list1 = [\"apple\", \"banana\", \"cherry\", \"mango\", \"blueberry\", \"pineapple\", \"cake\"]\n",
        "q3 = print(len(list1))"
      ],
      "id": "a961b572",
      "execution_count": null,
      "outputs": [
        {
          "output_type": "stream",
          "name": "stdout",
          "text": [
            "7\n"
          ]
        }
      ]
    },
    {
      "cell_type": "code",
      "metadata": {
        "deletable": false,
        "editable": false,
        "nbgrader": {
          "cell_type": "code",
          "checksum": "e6a679a7702488d16f693c23c67a00e3",
          "grade": true,
          "grade_id": "cell-475349101319c09f",
          "locked": true,
          "points": 1,
          "schema_version": 3,
          "solution": false,
          "task": false
        },
        "id": "e98a54c9"
      },
      "source": [
        "7"
      ],
      "id": "e98a54c9",
      "execution_count": null,
      "outputs": []
    },
    {
      "cell_type": "markdown",
      "metadata": {
        "deletable": false,
        "editable": false,
        "nbgrader": {
          "cell_type": "markdown",
          "checksum": "1bb6305bda925999a97431338eafd9ac",
          "grade": false,
          "grade_id": "cell-b3f9f8948f0dbc88",
          "locked": true,
          "schema_version": 3,
          "solution": false,
          "task": false
        },
        "id": "f58bfd23"
      },
      "source": [
        "**Question 4:** \n",
        "* Change the last item of the following list for `\"strawberry\"`: \n",
        "* Store the result in a variable `q4`\n",
        "\n",
        "`q4 = [\"apple\", \"banana\", \"cherry\", \"mango\", \"blueberry\", \"pineapple\", \"cake\"]`"
      ],
      "id": "f58bfd23"
    },
    {
      "cell_type": "code",
      "metadata": {
        "deletable": false,
        "nbgrader": {
          "cell_type": "code",
          "checksum": "816997f1a9bc69d3df25f53830f2ec1c",
          "grade": false,
          "grade_id": "cell-f8eda16267192adc",
          "locked": false,
          "schema_version": 3,
          "solution": true,
          "task": false
        },
        "id": "4cb6d94d",
        "colab": {
          "base_uri": "https://localhost:8080/"
        },
        "outputId": "09d29fd2-c0b6-4e19-d2a7-ffb716118307"
      },
      "source": [
        "# YOUR CODE HERE\n",
        "q4 = [\"apple\", \"banana\", \"cherry\", \"mango\", \"blueberry\", \"pineapple\", \"cake\"]\n",
        "q4[6] = 'strawberry'\n",
        "q4 = print(q4)"
      ],
      "id": "4cb6d94d",
      "execution_count": null,
      "outputs": [
        {
          "output_type": "stream",
          "name": "stdout",
          "text": [
            "['apple', 'banana', 'cherry', 'mango', 'blueberry', 'pineapple', 'strawberry']\n"
          ]
        }
      ]
    },
    {
      "cell_type": "code",
      "metadata": {
        "deletable": false,
        "editable": false,
        "nbgrader": {
          "cell_type": "code",
          "checksum": "ad3b0947a8ea8723ea2243a47385254b",
          "grade": true,
          "grade_id": "cell-ef33368b83bc4a1c",
          "locked": true,
          "points": 1,
          "schema_version": 3,
          "solution": false,
          "task": false
        },
        "id": "163de575"
      },
      "source": [
        "['apple', 'banana', 'cherry', 'mango', 'blueberry', 'pineapple', 'strawberry']"
      ],
      "id": "163de575",
      "execution_count": null,
      "outputs": []
    },
    {
      "cell_type": "markdown",
      "metadata": {
        "deletable": false,
        "editable": false,
        "nbgrader": {
          "cell_type": "markdown",
          "checksum": "2c76466fc7aa88e1facd27d469b6f499",
          "grade": false,
          "grade_id": "cell-8656d199ae9737f9",
          "locked": true,
          "schema_version": 3,
          "solution": false,
          "task": false
        },
        "id": "280a06c3"
      },
      "source": [
        "**Question 5:** \n",
        "* Change the second and third value of the following list for `\"watermelon\" and \"kiwi\"`:\n",
        "* Store the result in a variable `q5`\n",
        "\n",
        "`q5 = [\"apple\", \"banana\", \"cherry\", \"mango\", \"blueberry\", \"pineapple\", \"cake\"]`"
      ],
      "id": "280a06c3"
    },
    {
      "cell_type": "code",
      "metadata": {
        "deletable": false,
        "nbgrader": {
          "cell_type": "code",
          "checksum": "9fa64c567196d81ac8dad671a884712f",
          "grade": false,
          "grade_id": "cell-8f54cfba42babdb8",
          "locked": false,
          "schema_version": 3,
          "solution": true,
          "task": false
        },
        "id": "e8fb4fd5",
        "colab": {
          "base_uri": "https://localhost:8080/"
        },
        "outputId": "bd66cb39-930c-48e7-fb53-c9f0894b6b58"
      },
      "source": [
        "# YOUR CODE HERE\n",
        "q5 = [\"apple\", \"banana\", \"cherry\", \"mango\", \"blueberry\", \"pineapple\", \"cake\"]\n",
        "q5[1] = 'watermelon'\n",
        "q5[2] = 'kiwi'\n",
        "q5 = print(q5)"
      ],
      "id": "e8fb4fd5",
      "execution_count": null,
      "outputs": [
        {
          "output_type": "stream",
          "name": "stdout",
          "text": [
            "['apple', 'watermelon', 'kiwi', 'mango', 'blueberry', 'pineapple', 'cake']\n"
          ]
        }
      ]
    },
    {
      "cell_type": "code",
      "metadata": {
        "deletable": false,
        "editable": false,
        "nbgrader": {
          "cell_type": "code",
          "checksum": "c6652d00906174d255cb7537b31d5343",
          "grade": true,
          "grade_id": "cell-2aafb9805d52d6cb",
          "locked": true,
          "points": 1,
          "schema_version": 3,
          "solution": false,
          "task": false
        },
        "id": "f242f830"
      },
      "source": [
        "['apple', 'watermelon', 'kiwi', 'mango', 'blueberry', 'pineapple', 'cake']"
      ],
      "id": "f242f830",
      "execution_count": null,
      "outputs": []
    },
    {
      "cell_type": "markdown",
      "metadata": {
        "deletable": false,
        "editable": false,
        "nbgrader": {
          "cell_type": "markdown",
          "checksum": "fdca8133940ea36d6af86bee4c360386",
          "grade": false,
          "grade_id": "cell-45c96d60ba16c22e",
          "locked": true,
          "schema_version": 3,
          "solution": false,
          "task": false
        },
        "id": "678f0177"
      },
      "source": [
        "**Question 6:** \n",
        "* Insert \"watermelon\" as the third item:\n",
        "* Store the result in a variable `q6`\n",
        "\n",
        "`q6 = [\"apple\", \"banana\", \"cherry\"]`"
      ],
      "id": "678f0177"
    },
    {
      "cell_type": "code",
      "metadata": {
        "deletable": false,
        "nbgrader": {
          "cell_type": "code",
          "checksum": "1368393aca287665b974622b1fbfbbed",
          "grade": false,
          "grade_id": "cell-54ee4a478892c2eb",
          "locked": false,
          "schema_version": 3,
          "solution": true,
          "task": false
        },
        "id": "d9e3f43d",
        "colab": {
          "base_uri": "https://localhost:8080/"
        },
        "outputId": "ecd4c563-5326-4e5c-9a9f-7d940ca55384"
      },
      "source": [
        "# YOUR CODE HERE\n",
        "q6 = [\"apple\", \"banana\", \"cherry\"]\n",
        "q6[2] = 'watermelon'\n",
        "q6 = print(q6)"
      ],
      "id": "d9e3f43d",
      "execution_count": null,
      "outputs": [
        {
          "output_type": "stream",
          "name": "stdout",
          "text": [
            "['apple', 'banana', 'watermelon']\n"
          ]
        }
      ]
    },
    {
      "cell_type": "code",
      "metadata": {
        "deletable": false,
        "editable": false,
        "nbgrader": {
          "cell_type": "code",
          "checksum": "959f42b13c8308b859f33a55cb5c0ef2",
          "grade": true,
          "grade_id": "cell-1d6048d40c22207f",
          "locked": true,
          "points": 1,
          "schema_version": 3,
          "solution": false,
          "task": false
        },
        "id": "b80102d1"
      },
      "source": [
        "['apple', 'banana', 'watermelon']"
      ],
      "id": "b80102d1",
      "execution_count": null,
      "outputs": []
    },
    {
      "cell_type": "markdown",
      "metadata": {
        "deletable": false,
        "editable": false,
        "nbgrader": {
          "cell_type": "markdown",
          "checksum": "fb2838bdb730ceed33c2a21e45bec81b",
          "grade": false,
          "grade_id": "cell-9fd018728f79dbe4",
          "locked": true,
          "schema_version": 3,
          "solution": false,
          "task": false
        },
        "id": "c73d6d9a"
      },
      "source": [
        "**Question 7:** \n",
        "* Get the second item in the tuple:\n",
        "* Store the result in a variable `q7`\n",
        "\n",
        "`t = (\"apple\", \"banana\", \"cherry\", \"mango\", \"blueberry\", \"pineapple\", \"cake\")`\n",
        " "
      ],
      "id": "c73d6d9a"
    },
    {
      "cell_type": "code",
      "metadata": {
        "deletable": false,
        "nbgrader": {
          "cell_type": "code",
          "checksum": "e78d070ddb69c0722afd85b1eb148746",
          "grade": false,
          "grade_id": "cell-a9d65c46f0e23567",
          "locked": false,
          "schema_version": 3,
          "solution": true,
          "task": false
        },
        "id": "3661b735",
        "colab": {
          "base_uri": "https://localhost:8080/"
        },
        "outputId": "3239ed8f-006f-496e-f81e-e195d76be455"
      },
      "source": [
        "# YOUR CODE HERE\n",
        "t = (\"apple\", \"banana\", \"cherry\", \"mango\", \"blueberry\", \"pineapple\", \"cake\")\n",
        "q7 = print(t[1])"
      ],
      "id": "3661b735",
      "execution_count": null,
      "outputs": [
        {
          "output_type": "stream",
          "name": "stdout",
          "text": [
            "banana\n"
          ]
        }
      ]
    },
    {
      "cell_type": "code",
      "metadata": {
        "deletable": false,
        "editable": false,
        "nbgrader": {
          "cell_type": "code",
          "checksum": "3ae0aa00001df7a713b2e1709792700f",
          "grade": true,
          "grade_id": "cell-4012f39779e60886",
          "locked": true,
          "points": 1,
          "schema_version": 3,
          "solution": false,
          "task": false
        },
        "id": "689c3917"
      },
      "source": [
        "banana"
      ],
      "id": "689c3917",
      "execution_count": null,
      "outputs": []
    },
    {
      "cell_type": "markdown",
      "metadata": {
        "deletable": false,
        "editable": false,
        "nbgrader": {
          "cell_type": "markdown",
          "checksum": "5be4ac5cfb39b4a0cde449f3faa8f34a",
          "grade": false,
          "grade_id": "cell-c9c55fc20233b33b",
          "locked": true,
          "schema_version": 3,
          "solution": false,
          "task": false
        },
        "id": "bfc09e37"
      },
      "source": [
        "**Question 8:** \n",
        "* Using the append() method to append an item to a list: `\"pineapple\"`\n",
        "* Store the result in a variable `q8`\n",
        "\n",
        "`q8 = [\"apple\", \"banana\", \"cherry\"]`"
      ],
      "id": "bfc09e37"
    },
    {
      "cell_type": "code",
      "metadata": {
        "deletable": false,
        "nbgrader": {
          "cell_type": "code",
          "checksum": "54dafe40b7bbdb64dc0e21b4697ca76b",
          "grade": false,
          "grade_id": "cell-56c726745bff8aa7",
          "locked": false,
          "schema_version": 3,
          "solution": true,
          "task": false
        },
        "id": "019abf4e",
        "colab": {
          "base_uri": "https://localhost:8080/"
        },
        "outputId": "1c71aaed-4d57-4837-a2fb-eae1b0c92dab"
      },
      "source": [
        "#To add an item to the end of the list, use the append() method\n",
        "\n",
        "# YOUR CODE HERE\n",
        "q8 = [\"apple\", \"banana\", \"cherry\"]\n",
        "q8.append(\"pineapple\")\n",
        "q8 = print(q8)"
      ],
      "id": "019abf4e",
      "execution_count": null,
      "outputs": [
        {
          "output_type": "stream",
          "name": "stdout",
          "text": [
            "['apple', 'banana', 'cherry', 'pineapple']\n"
          ]
        }
      ]
    },
    {
      "cell_type": "code",
      "metadata": {
        "deletable": false,
        "editable": false,
        "nbgrader": {
          "cell_type": "code",
          "checksum": "d31711e55488df4227785ebd8cfd07d6",
          "grade": true,
          "grade_id": "cell-6df1c46d27b1c830",
          "locked": true,
          "points": 1,
          "schema_version": 3,
          "solution": false,
          "task": false
        },
        "id": "197d1193"
      },
      "source": [
        "['apple', 'banana', 'cherry', 'pineapple']"
      ],
      "id": "197d1193",
      "execution_count": null,
      "outputs": []
    },
    {
      "cell_type": "markdown",
      "metadata": {
        "deletable": false,
        "editable": false,
        "nbgrader": {
          "cell_type": "markdown",
          "checksum": "c7b986ac7476b04f41a561521dee07b3",
          "grade": false,
          "grade_id": "cell-a9b0cbc43f31e20b",
          "locked": true,
          "schema_version": 3,
          "solution": false,
          "task": false
        },
        "id": "a0e78ca9"
      },
      "source": [
        "**Question 9:** \n",
        "* Remove `\"mango\"` from the following set by using the `remove()` method:\n",
        "\n",
        "`q9 = {\"apple\", \"banana\", \"cherry\", \"mango\", \"blueberry\", \"pineapple\", \"cake\"}`"
      ],
      "id": "a0e78ca9"
    },
    {
      "cell_type": "code",
      "metadata": {
        "deletable": false,
        "nbgrader": {
          "cell_type": "code",
          "checksum": "6822b56dfb45ff3c145c2b316047b508",
          "grade": false,
          "grade_id": "cell-b135400fbc28f152",
          "locked": false,
          "schema_version": 3,
          "solution": true,
          "task": false
        },
        "id": "97c5230b",
        "colab": {
          "base_uri": "https://localhost:8080/"
        },
        "outputId": "5b6876b2-f327-4915-b74a-0f1c7261ea7e"
      },
      "source": [
        "# YOUR CODE HERE\n",
        "q9 = [\"apple\", \"banana\", \"cherry\", \"mango\", \"blueberry\", \"pineapple\", \"cake\"]\n",
        "q9.remove(\"mango\")\n",
        "print(q9)"
      ],
      "id": "97c5230b",
      "execution_count": 18,
      "outputs": [
        {
          "output_type": "stream",
          "name": "stdout",
          "text": [
            "['apple', 'banana', 'cherry', 'blueberry', 'pineapple', 'cake']\n"
          ]
        }
      ]
    },
    {
      "cell_type": "code",
      "metadata": {
        "id": "XLxOcUJ3kleG"
      },
      "source": [
        "['apple', 'banana', 'cherry', 'blueberry', 'pineapple', 'cake']"
      ],
      "id": "XLxOcUJ3kleG",
      "execution_count": null,
      "outputs": []
    },
    {
      "cell_type": "markdown",
      "metadata": {
        "deletable": false,
        "editable": false,
        "nbgrader": {
          "cell_type": "markdown",
          "checksum": "dbdc4176de31240208dd81469df77e65",
          "grade": false,
          "grade_id": "cell-1b0f90a582a2664c",
          "locked": true,
          "schema_version": 3,
          "solution": false,
          "task": false
        },
        "id": "278a9d81"
      },
      "source": [
        "**Question 10:** \n",
        "* Remove the last item of the set by using the pop() method:\n",
        "\n",
        "`q10 = {\"apple\", \"banana\", \"cherry\", \"mango\", \"blueberry\", \"pineapple\", \"cake\"}`"
      ],
      "id": "278a9d81"
    },
    {
      "cell_type": "code",
      "metadata": {
        "deletable": false,
        "nbgrader": {
          "cell_type": "code",
          "checksum": "bcac9a92aced86b2f90d79f57bdbed6a",
          "grade": false,
          "grade_id": "cell-571021f5b1d6b48e",
          "locked": false,
          "schema_version": 3,
          "solution": true,
          "task": false
        },
        "id": "50752a3b",
        "colab": {
          "base_uri": "https://localhost:8080/"
        },
        "outputId": "786d8cb0-45ac-4b42-d401-b2fdb8d3bb93"
      },
      "source": [
        "# YOUR CODE HERE\n",
        "q10 = [\"apple\", \"banana\", \"cherry\", \"mango\", \"blueberry\", \"pineapple\", \"cake\"]\n",
        "q10.pop(6)\n",
        "print(q10)"
      ],
      "id": "50752a3b",
      "execution_count": null,
      "outputs": [
        {
          "output_type": "stream",
          "name": "stdout",
          "text": [
            "['apple', 'banana', 'cherry', 'mango', 'blueberry', 'pineapple']\n"
          ]
        }
      ]
    },
    {
      "cell_type": "code",
      "metadata": {
        "deletable": false,
        "editable": false,
        "nbgrader": {
          "cell_type": "code",
          "checksum": "442e7d1449e9910262c75bf74d39a4e3",
          "grade": true,
          "grade_id": "cell-78150ab3b4c7ef37",
          "locked": true,
          "points": 1,
          "schema_version": 3,
          "solution": false,
          "task": false
        },
        "id": "755cd861"
      },
      "source": [
        "['apple', 'banana', 'cherry', 'mango', 'blueberry', 'pineapple']"
      ],
      "id": "755cd861",
      "execution_count": null,
      "outputs": []
    },
    {
      "cell_type": "markdown",
      "metadata": {
        "deletable": false,
        "editable": false,
        "nbgrader": {
          "cell_type": "markdown",
          "checksum": "d8afa03a17b8ce6eb9601488cc57428f",
          "grade": false,
          "grade_id": "cell-c02571d4e4176422",
          "locked": true,
          "schema_version": 3,
          "solution": false,
          "task": false
        },
        "id": "392a1da2"
      },
      "source": [
        "### Congratulations! \n",
        "\n",
        "### You complete the third laboratory. \n",
        "\n",
        "### Please save your file and save it (push/commit changes) in GitHub in Lab 3. "
      ],
      "id": "392a1da2"
    },
    {
      "cell_type": "code",
      "metadata": {
        "id": "5ae61c51"
      },
      "source": [
        ""
      ],
      "id": "5ae61c51",
      "execution_count": null,
      "outputs": []
    }
  ]
}
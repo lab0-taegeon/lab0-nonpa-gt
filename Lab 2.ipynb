{
  "nbformat": 4,
  "nbformat_minor": 5,
  "metadata": {
    "kernelspec": {
      "display_name": "Python 3",
      "language": "python",
      "name": "python3"
    },
    "language_info": {
      "codemirror_mode": {
        "name": "ipython",
        "version": 3
      },
      "file_extension": ".py",
      "mimetype": "text/x-python",
      "name": "python",
      "nbconvert_exporter": "python",
      "pygments_lexer": "ipython3",
      "version": "3.7.11"
    },
    "colab": {
      "name": "Lab 2.ipynb",
      "provenance": []
    }
  },
  "cells": [
    {
      "cell_type": "markdown",
      "metadata": {
        "deletable": false,
        "editable": false,
        "nbgrader": {
          "cell_type": "markdown",
          "checksum": "a5395a11f967f65e40663e1029fba2fc",
          "grade": false,
          "grade_id": "Introduction",
          "locked": true,
          "schema_version": 3,
          "solution": false,
          "task": false
        },
        "id": "7384ff73"
      },
      "source": [
        "# Laboratory #2\n",
        "\n",
        "* This is an introductory exercise for you to learn about Python basics.\n",
        "\n",
        "* Each question has a value of 1 point\n",
        "\n",
        "* For this laboratory each exercise has its answer, please copy the answer after the comment `# YOUR CODE HERE` in their respective question\n"
      ],
      "id": "7384ff73"
    },
    {
      "cell_type": "markdown",
      "metadata": {
        "id": "e37aff44"
      },
      "source": [
        "* Name: KIM TAE GEON\n",
        "* Student ID: 201801349\n",
        "\n",
        "Answer the questions or complete the tasks below, use the specific method described if applicable."
      ],
      "id": "e37aff44"
    },
    {
      "cell_type": "markdown",
      "metadata": {
        "deletable": false,
        "editable": false,
        "nbgrader": {
          "cell_type": "markdown",
          "checksum": "3c19e3403975e7524f14b10284bb72f5",
          "grade": false,
          "grade_id": "q1_desc",
          "locked": true,
          "schema_version": 3,
          "solution": false,
          "task": false
        },
        "id": "973b3138"
      },
      "source": [
        "**Question 1:** \n",
        "* Create the variables `a = 9` and `b = 6`.  \n",
        "* Create a variable `c` = (`a` to the power of `b`). \n",
        "* What is the value of `c`? (print the result)"
      ],
      "id": "973b3138"
    },
    {
      "cell_type": "code",
      "metadata": {
        "deletable": false,
        "nbgrader": {
          "cell_type": "code",
          "checksum": "c55f2f8267fe52ea577942fc14c4b497",
          "grade": false,
          "grade_id": "q1_ans",
          "locked": false,
          "schema_version": 3,
          "solution": true,
          "task": false
        },
        "id": "dbd24305",
        "outputId": "fa7f69c9-b6a4-486b-cb87-c0035c777dbc",
        "colab": {
          "base_uri": "https://localhost:8080/"
        }
      },
      "source": [
        "# YOUR CODE HERE\n",
        "a = 9\n",
        "b = 6\n",
        "c = print(a**b)\n"
      ],
      "id": "dbd24305",
      "execution_count": 4,
      "outputs": [
        {
          "output_type": "stream",
          "name": "stdout",
          "text": [
            "531441\n"
          ]
        }
      ]
    },
    {
      "cell_type": "code",
      "metadata": {
        "deletable": false,
        "editable": false,
        "nbgrader": {
          "cell_type": "code",
          "checksum": "b39eeec384d965e33d5d22195ddf35e9",
          "grade": true,
          "grade_id": "q1_test_1",
          "locked": true,
          "points": 5,
          "schema_version": 3,
          "solution": false,
          "task": false
        },
        "id": "1c3c0c49"
      },
      "source": [
        "c = 531441"
      ],
      "id": "1c3c0c49",
      "execution_count": null,
      "outputs": []
    },
    {
      "cell_type": "code",
      "metadata": {
        "deletable": false,
        "editable": false,
        "nbgrader": {
          "cell_type": "code",
          "checksum": "9833554bd8ff7b46f8400f94e31fc325",
          "grade": true,
          "grade_id": "q1_test_2",
          "locked": true,
          "points": 5,
          "schema_version": 3,
          "solution": false,
          "task": false
        },
        "id": "6723f7ce"
      },
      "source": [
        ""
      ],
      "id": "6723f7ce",
      "execution_count": null,
      "outputs": []
    },
    {
      "cell_type": "markdown",
      "metadata": {
        "deletable": false,
        "editable": false,
        "nbgrader": {
          "cell_type": "markdown",
          "checksum": "1307f1e9e22ee6ae5f26b9bcc981236f",
          "grade": false,
          "grade_id": "q2_desc",
          "locked": true,
          "schema_version": 3,
          "solution": false,
          "task": false
        },
        "id": "45f499b3"
      },
      "source": [
        "**Question 2:** Create and split this following string variable:\n",
        "\n",
        "`st = \"Programming Languages 101\"`\n",
        "\n",
        "into a list. Save the result in a new variable `s`."
      ],
      "id": "45f499b3"
    },
    {
      "cell_type": "code",
      "metadata": {
        "deletable": false,
        "nbgrader": {
          "cell_type": "code",
          "checksum": "e195a99c985e2cdae54fc6144d217d22",
          "grade": false,
          "grade_id": "q2_ans",
          "locked": false,
          "schema_version": 3,
          "solution": true,
          "task": false
        },
        "id": "732eab2d",
        "outputId": "ab7d0ba8-8be5-48ee-e98e-b964e75c7e7a",
        "colab": {
          "base_uri": "https://localhost:8080/"
        }
      },
      "source": [
        "# YOUR CODE HERE\n",
        "st = \"Programming Languages 101\"\n",
        "s = print(st.split())"
      ],
      "id": "732eab2d",
      "execution_count": 74,
      "outputs": [
        {
          "output_type": "stream",
          "name": "stdout",
          "text": [
            "['Programming', 'Languages', '101']\n"
          ]
        }
      ]
    },
    {
      "cell_type": "code",
      "metadata": {
        "deletable": false,
        "editable": false,
        "nbgrader": {
          "cell_type": "code",
          "checksum": "3ecb4e6d5bc840216eaef4421446c45b",
          "grade": true,
          "grade_id": "q2_test",
          "locked": true,
          "points": 10,
          "schema_version": 3,
          "solution": false,
          "task": false
        },
        "id": "8b75cf1c"
      },
      "source": [
        "s = ['Programming', 'Languages', '101']"
      ],
      "id": "8b75cf1c",
      "execution_count": null,
      "outputs": []
    },
    {
      "cell_type": "markdown",
      "metadata": {
        "deletable": false,
        "editable": false,
        "nbgrader": {
          "cell_type": "markdown",
          "checksum": "4eebec668d6143ac974e0d295ec9ff75",
          "grade": false,
          "grade_id": "q3_desc",
          "locked": true,
          "schema_version": 3,
          "solution": false,
          "task": false
        },
        "id": "63c84c8c"
      },
      "source": [
        "**Question 3:**  Create and use the following variables:\n",
        "\n",
        "`space_station = \"Death Star I\"\n",
        "diameter = 120`\n",
        "\n",
        "Use .format() to print the following string:\n",
        "\n",
        "The diameter of Death Star I is 120 kilometers."
      ],
      "id": "63c84c8c"
    },
    {
      "cell_type": "code",
      "metadata": {
        "deletable": false,
        "nbgrader": {
          "cell_type": "code",
          "checksum": "2fc9935a068ab82211df6a0f58eebd57",
          "grade": false,
          "grade_id": "q3_ans",
          "locked": false,
          "schema_version": 3,
          "solution": true,
          "task": false
        },
        "id": "5db9e2c2",
        "outputId": "02305c5d-e901-4b2c-92e9-2a342d08a1db",
        "colab": {
          "base_uri": "https://localhost:8080/"
        }
      },
      "source": [
        "# YOUR CODE HERE\n",
        "space_station = \"Death Star I\"\n",
        "diameter = 120\n",
        "print(\"The diameter of {} is {} kilometers.\".format(space_station,diameter ))"
      ],
      "id": "5db9e2c2",
      "execution_count": 44,
      "outputs": [
        {
          "output_type": "stream",
          "name": "stdout",
          "text": [
            "The diameter of Death Star I is 120 kilometers.\n"
          ]
        }
      ]
    },
    {
      "cell_type": "code",
      "metadata": {
        "deletable": false,
        "editable": false,
        "nbgrader": {
          "cell_type": "code",
          "checksum": "080ac43d0e7dbb76df3a06ff1943aa2f",
          "grade": true,
          "grade_id": "q3_test",
          "locked": true,
          "points": 10,
          "schema_version": 3,
          "solution": false,
          "task": false
        },
        "id": "7ffeb397"
      },
      "source": [
        "The diameter of Death Star I is 120 kilometers."
      ],
      "id": "7ffeb397",
      "execution_count": null,
      "outputs": []
    },
    {
      "cell_type": "markdown",
      "metadata": {
        "deletable": false,
        "editable": false,
        "nbgrader": {
          "cell_type": "markdown",
          "checksum": "808558c48d0838bb24b56fc869668cba",
          "grade": false,
          "grade_id": "q4_desc",
          "locked": true,
          "schema_version": 3,
          "solution": false,
          "task": false
        },
        "id": "751dbfda"
      },
      "source": [
        "**Question 4:**\n",
        "\n",
        "* Use the len method to print the length of the string. \n",
        "\n",
        "* `x = \"Welcome to Programming Language Course\"`\n",
        "\n",
        "* Save the result in a new variable `h`.\n"
      ],
      "id": "751dbfda"
    },
    {
      "cell_type": "code",
      "metadata": {
        "deletable": false,
        "nbgrader": {
          "cell_type": "code",
          "checksum": "4b171a81b89b04dff7621a8aa44c9237",
          "grade": false,
          "grade_id": "q4_ans",
          "locked": false,
          "schema_version": 3,
          "solution": true,
          "task": false
        },
        "id": "d99653b3",
        "outputId": "4f1612a8-df4b-482d-c22f-2dc410f9b7ad",
        "colab": {
          "base_uri": "https://localhost:8080/"
        }
      },
      "source": [
        "# YOUR CODE HERE\n",
        "x = \"Welcome to Programming Language Course\"\n",
        "h = print(len(x))"
      ],
      "id": "d99653b3",
      "execution_count": 36,
      "outputs": [
        {
          "output_type": "stream",
          "name": "stdout",
          "text": [
            "38\n"
          ]
        }
      ]
    },
    {
      "cell_type": "code",
      "metadata": {
        "deletable": false,
        "editable": false,
        "nbgrader": {
          "cell_type": "code",
          "checksum": "e2d2e19b60274bbf36c17c544cebd85f",
          "grade": true,
          "grade_id": "q4_test",
          "locked": true,
          "points": 10,
          "schema_version": 3,
          "solution": false,
          "task": false
        },
        "id": "57c152e5"
      },
      "source": [
        "h = 38"
      ],
      "id": "57c152e5",
      "execution_count": null,
      "outputs": []
    },
    {
      "cell_type": "markdown",
      "metadata": {
        "deletable": false,
        "editable": false,
        "nbgrader": {
          "cell_type": "markdown",
          "checksum": "c70a6ae47a5f4a0fd0160544580be460",
          "grade": false,
          "grade_id": "q5_desc",
          "locked": true,
          "schema_version": 3,
          "solution": false,
          "task": false
        },
        "id": "93e7349a"
      },
      "source": [
        "**Question 5:**\n",
        "\n",
        "* Get the first character of the string txt\n",
        "* `txt = \"Welcome to the 2nd Laboratory\"`\n",
        "\n",
        "* Save the result in a new variable `k`.\n"
      ],
      "id": "93e7349a"
    },
    {
      "cell_type": "code",
      "metadata": {
        "deletable": false,
        "nbgrader": {
          "cell_type": "code",
          "checksum": "0250afeaaa8f96dde3ef816354dce02d",
          "grade": false,
          "grade_id": "q5_ans",
          "locked": false,
          "schema_version": 3,
          "solution": true,
          "task": false
        },
        "id": "0543d039",
        "outputId": "76a98617-ca6f-4864-df9d-ab62065ace40",
        "colab": {
          "base_uri": "https://localhost:8080/"
        }
      },
      "source": [
        "# YOUR CODE HERE\n",
        "txt = \"Welcome to the 2nd Laboratory\"\n",
        "k = print(txt[0])"
      ],
      "id": "0543d039",
      "execution_count": 33,
      "outputs": [
        {
          "output_type": "stream",
          "name": "stdout",
          "text": [
            "W\n"
          ]
        }
      ]
    },
    {
      "cell_type": "code",
      "metadata": {
        "deletable": false,
        "editable": false,
        "nbgrader": {
          "cell_type": "code",
          "checksum": "dec9d46ff1416d7514b40b6bc869ef27",
          "grade": true,
          "grade_id": "q5_test",
          "locked": true,
          "points": 10,
          "schema_version": 3,
          "solution": false,
          "task": false
        },
        "id": "a60e26ab"
      },
      "source": [
        "k = W"
      ],
      "id": "a60e26ab",
      "execution_count": null,
      "outputs": []
    },
    {
      "cell_type": "markdown",
      "metadata": {
        "deletable": false,
        "editable": false,
        "nbgrader": {
          "cell_type": "markdown",
          "checksum": "89a76f3b8724b59f36d4979248bb4e2c",
          "grade": false,
          "grade_id": "q6_desc",
          "locked": true,
          "schema_version": 3,
          "solution": false,
          "task": false
        },
        "id": "892e8f0d"
      },
      "source": [
        "**Question 6:**\n",
        "\n",
        "* Get the characters from index 2 to index 4 of the string txt.\n",
        "* `txt = \"Welcome to the 2nd Laboratory\"`\n",
        "* Save the result in a new variable `v`.\n"
      ],
      "id": "892e8f0d"
    },
    {
      "cell_type": "code",
      "metadata": {
        "deletable": false,
        "nbgrader": {
          "cell_type": "code",
          "checksum": "3b18f284f67a6c0394b5c5d1a1c9ae47",
          "grade": false,
          "grade_id": "q6_ans",
          "locked": false,
          "schema_version": 3,
          "solution": true,
          "task": false
        },
        "id": "c7d064c5",
        "outputId": "83e89846-bb3b-467f-9d45-ca33700d7f58",
        "colab": {
          "base_uri": "https://localhost:8080/"
        }
      },
      "source": [
        "# YOUR CODE HERE\n",
        "txt = \"Welcome to the 2nd Laboratory\"\n",
        "v = print(txt[2] + txt[3] + txt[4])"
      ],
      "id": "c7d064c5",
      "execution_count": 34,
      "outputs": [
        {
          "output_type": "stream",
          "name": "stdout",
          "text": [
            "lco\n"
          ]
        }
      ]
    },
    {
      "cell_type": "code",
      "metadata": {
        "deletable": false,
        "editable": false,
        "nbgrader": {
          "cell_type": "code",
          "checksum": "64d3f9287f9f4c6d7fd24b4257d75c5a",
          "grade": true,
          "grade_id": "q6_test",
          "locked": true,
          "points": 10,
          "schema_version": 3,
          "solution": false,
          "task": false
        },
        "id": "ad987b2a"
      },
      "source": [
        "v = lco"
      ],
      "id": "ad987b2a",
      "execution_count": null,
      "outputs": []
    },
    {
      "cell_type": "markdown",
      "metadata": {
        "deletable": false,
        "editable": false,
        "nbgrader": {
          "cell_type": "markdown",
          "checksum": "0b43aeee74759e72110f7136d973f7b2",
          "grade": false,
          "grade_id": "q7_desc",
          "locked": true,
          "schema_version": 3,
          "solution": false,
          "task": false
        },
        "id": "a93b74eb"
      },
      "source": [
        "**Question 7:**\n",
        "\n",
        "* Convert the value of txt to upper case.\n",
        "* `txt = \"Welcome to the 2nd Laboratory\"`\n",
        "* Save the result in a new variable `b`."
      ],
      "id": "a93b74eb"
    },
    {
      "cell_type": "code",
      "metadata": {
        "deletable": false,
        "nbgrader": {
          "cell_type": "code",
          "checksum": "0ef3c39b6a1972740052033903802d16",
          "grade": false,
          "grade_id": "q7_ans",
          "locked": false,
          "schema_version": 3,
          "solution": true,
          "task": false
        },
        "id": "8267e80b",
        "outputId": "ca7d8850-94eb-4282-a8f2-5ddd0ae7810c",
        "colab": {
          "base_uri": "https://localhost:8080/"
        }
      },
      "source": [
        "# YOUR CODE HERE\n",
        "txt = \"Welcome to the 2nd Laboratory\"\n",
        "b = print(txt.upper())"
      ],
      "id": "8267e80b",
      "execution_count": 8,
      "outputs": [
        {
          "output_type": "stream",
          "name": "stdout",
          "text": [
            "WELCOME TO THE 2ND LABORATORY\n"
          ]
        }
      ]
    },
    {
      "cell_type": "code",
      "metadata": {
        "deletable": false,
        "editable": false,
        "nbgrader": {
          "cell_type": "code",
          "checksum": "b93013c46d13650ce4a3a59b8c923f31",
          "grade": true,
          "grade_id": "q7_test",
          "locked": true,
          "points": 10,
          "schema_version": 3,
          "solution": false,
          "task": false
        },
        "id": "cffd9c6a"
      },
      "source": [
        "b = WELCOME TO THE 2ND LABORATORY"
      ],
      "id": "cffd9c6a",
      "execution_count": null,
      "outputs": []
    },
    {
      "cell_type": "markdown",
      "metadata": {
        "deletable": false,
        "editable": false,
        "nbgrader": {
          "cell_type": "markdown",
          "checksum": "df658ca50600e1e99c1706dffa447437",
          "grade": false,
          "grade_id": "q8_desc",
          "locked": true,
          "schema_version": 3,
          "solution": false,
          "task": false
        },
        "id": "d73a9944"
      },
      "source": [
        "**Question 8:**\n",
        "* Convert the value of txt to lower case.\n",
        "* `txt = \"Welcome to the 2nd Laboratory\"`\n",
        "* Save the result in a new variable `lw`."
      ],
      "id": "d73a9944"
    },
    {
      "cell_type": "code",
      "metadata": {
        "deletable": false,
        "nbgrader": {
          "cell_type": "code",
          "checksum": "28ca95c55895bf0fc7361b179f0712d6",
          "grade": false,
          "grade_id": "q8_ans",
          "locked": false,
          "schema_version": 3,
          "solution": true,
          "task": false
        },
        "id": "b3abc173",
        "outputId": "635bfcbb-42ca-4c39-aadc-2594cc154c79",
        "colab": {
          "base_uri": "https://localhost:8080/"
        }
      },
      "source": [
        "# YOUR CODE HERE\n",
        "txt = \"Welcome to the 2nd Laboratory\"\n",
        "lw = print(txt.lower())"
      ],
      "id": "b3abc173",
      "execution_count": 7,
      "outputs": [
        {
          "output_type": "stream",
          "name": "stdout",
          "text": [
            "welcome to the 2nd laboratory\n"
          ]
        }
      ]
    },
    {
      "cell_type": "code",
      "metadata": {
        "deletable": false,
        "editable": false,
        "nbgrader": {
          "cell_type": "code",
          "checksum": "5d1b01e95281183362e151e483f9ecc0",
          "grade": true,
          "grade_id": "q8_test",
          "locked": true,
          "points": 10,
          "schema_version": 3,
          "solution": false,
          "task": false
        },
        "id": "c68fa094"
      },
      "source": [
        "lw = welcome to the 2nd laboratory"
      ],
      "id": "c68fa094",
      "execution_count": null,
      "outputs": []
    },
    {
      "cell_type": "markdown",
      "metadata": {
        "deletable": false,
        "editable": false,
        "nbgrader": {
          "cell_type": "markdown",
          "checksum": "596371dc2cec1c229322cd8f56cfea31",
          "grade": false,
          "grade_id": "q9_desc",
          "locked": true,
          "schema_version": 3,
          "solution": false,
          "task": false
        },
        "id": "b8aa8843"
      },
      "source": [
        "**Question 9:**\n",
        "* Replace the character o with an @ for txt.\n",
        "* `txt = \"Welcome to the 2nd Laboratory\"`\n",
        "* Save the result in a new variable `rp`.\n"
      ],
      "id": "b8aa8843"
    },
    {
      "cell_type": "code",
      "metadata": {
        "deletable": false,
        "nbgrader": {
          "cell_type": "code",
          "checksum": "43e056c0ff520c958b59f260c36e9251",
          "grade": false,
          "grade_id": "q9_ans",
          "locked": false,
          "schema_version": 3,
          "solution": true,
          "task": false
        },
        "id": "9c1ecbab",
        "outputId": "32e7b6bd-37a2-4260-8b6b-897a8ac6795b",
        "colab": {
          "base_uri": "https://localhost:8080/"
        }
      },
      "source": [
        "# YOUR CODE HERE\n",
        "txt = \"Welcome to the 2nd Laboratory\"\n",
        "rp = print(txt.replace('o','@'))"
      ],
      "id": "9c1ecbab",
      "execution_count": 11,
      "outputs": [
        {
          "output_type": "stream",
          "name": "stdout",
          "text": [
            "Welc@me t@ the 2nd Lab@rat@ry\n"
          ]
        }
      ]
    },
    {
      "cell_type": "code",
      "metadata": {
        "deletable": false,
        "editable": false,
        "nbgrader": {
          "cell_type": "code",
          "checksum": "52565a17376cad88f1e730095873f20b",
          "grade": true,
          "grade_id": "q9_test",
          "locked": true,
          "points": 10,
          "schema_version": 3,
          "solution": false,
          "task": false
        },
        "id": "210ed5b0"
      },
      "source": [
        "rp = Welc@me t@ the 2nd Lab@rat@ry"
      ],
      "id": "210ed5b0",
      "execution_count": null,
      "outputs": []
    },
    {
      "cell_type": "markdown",
      "metadata": {
        "deletable": false,
        "editable": false,
        "nbgrader": {
          "cell_type": "markdown",
          "checksum": "1e4d3143bef1cf7c0d8445cc7e35c64d",
          "grade": false,
          "grade_id": "q10_desc",
          "locked": true,
          "schema_version": 3,
          "solution": false,
          "task": false
        },
        "id": "76b90a9a"
      },
      "source": [
        "**Question 10:**\n",
        "* Create a string variable `str_heart` that make the following pattern in one sentence.\n",
        "\n",
        "       HHH    HHH\n",
        "  \n",
        "     HHH   HHH   HHH\n",
        "     \n",
        "    HHH          HHH\n",
        "    \n",
        "     HHH        HHH\n",
        "     \n",
        "      HHH      HHH\n",
        "      \n",
        "        HHH  HHH\n",
        "        \n",
        "          HHH\n"
      ],
      "id": "76b90a9a"
    },
    {
      "cell_type": "code",
      "metadata": {
        "deletable": false,
        "nbgrader": {
          "cell_type": "code",
          "checksum": "343cc165d728fcf08e6a99123930b365",
          "grade": false,
          "grade_id": "q10_ans",
          "locked": false,
          "schema_version": 3,
          "solution": true,
          "task": false
        },
        "id": "c4ca0f6f",
        "outputId": "7f675ee7-bac1-47e0-b0d9-5bc20225d907",
        "colab": {
          "base_uri": "https://localhost:8080/"
        }
      },
      "source": [
        "# YOUR CODE HERE\n",
        "print(\"\\t\\t\\t HHH \\t\\t HHH \\n\\n\\t\\t HHH \\t\\t HHH \\t\\t HHH \\n\\n\\t HHH \\t\\t\\t\\t\\t\\t HHH \\n\\n\\t\\t HHH \\t\\t\\t\\t HHH \\n\\n\\t\\t\\t HHH \\t\\t HHH \\n\\n\\t\\t\\t\\t HHH\")                       "
      ],
      "id": "c4ca0f6f",
      "execution_count": 68,
      "outputs": [
        {
          "output_type": "stream",
          "name": "stdout",
          "text": [
            "\t\t\t HHH \t\t HHH \n",
            "\n",
            "\t\t HHH \t\t HHH \t\t HHH \n",
            "\n",
            "\t HHH \t\t\t\t\t\t HHH \n",
            "\n",
            "\t\t HHH \t\t\t\t HHH \n",
            "\n",
            "\t\t\t HHH \t\t HHH \n",
            "\n",
            "\t\t\t\t HHH\n"
          ]
        }
      ]
    },
    {
      "cell_type": "code",
      "metadata": {
        "deletable": false,
        "editable": false,
        "nbgrader": {
          "cell_type": "code",
          "checksum": "fe7969cd8f3fc628796c822224d7a49d",
          "grade": true,
          "grade_id": "q10_test",
          "locked": true,
          "points": 10,
          "schema_version": 3,
          "solution": false,
          "task": false
        },
        "id": "ebeeb186"
      },
      "source": [
        "\t\t\t HHH \t\t HHH \n",
        "\n",
        "\t\t HHH \t\t HHH \t\t HHH \n",
        "\n",
        "\t HHH \t\t\t\t\t\t HHH \n",
        "\n",
        "\t\t HHH \t\t\t\t HHH \n",
        "\n",
        "\t\t\t HHH \t\t HHH \n",
        "\n",
        "\t\t\t\t HHH"
      ],
      "id": "ebeeb186",
      "execution_count": null,
      "outputs": []
    },
    {
      "cell_type": "markdown",
      "metadata": {
        "deletable": false,
        "editable": false,
        "nbgrader": {
          "cell_type": "markdown",
          "checksum": "87fda00062f5774677289b77e6101aed",
          "grade": false,
          "grade_id": "Final",
          "locked": true,
          "schema_version": 3,
          "solution": false,
          "task": false
        },
        "id": "2564d0f2"
      },
      "source": [
        "### Congratulations! \n",
        "\n",
        "### You complete the second laboratory. \n",
        "\n",
        "### Please save your file and save it (push/commit changes) in GitHub in Lab 2. \n",
        "\n",
        "### Happy Chuseok"
      ],
      "id": "2564d0f2"
    },
    {
      "cell_type": "code",
      "metadata": {
        "id": "a3fb66cb"
      },
      "source": [
        ""
      ],
      "id": "a3fb66cb",
      "execution_count": null,
      "outputs": []
    }
  ]
}